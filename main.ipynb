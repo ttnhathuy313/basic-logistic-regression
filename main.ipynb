{
 "cells": [
  {
   "cell_type": "code",
   "execution_count": 1,
   "metadata": {},
   "outputs": [
    {
     "name": "stderr",
     "output_type": "stream",
     "text": [
      "ERROR: Could not find a version that satisfies the requirement amsmath (from versions: none)\n",
      "ERROR: No matching distribution found for amsmath\n"
     ]
    }
   ],
   "source": [
    "!pip install amsmath"
   ]
  },
  {
   "cell_type": "markdown",
   "metadata": {},
   "source": [
    "### Problem formulation\n",
    "\n",
    "You are given data of the form (x_i, y_i), where x_i is the number of hours the student i has spent to study for the exam and y_i the result of the exam. If y_i = 0, the i_th student has failed, otherwise he passed the exam.\n",
    "\n",
    "From the data, you are asked to develop a model that can predict whether a student pass the exam, knowing the number of hours he used for studying\n",
    "\n",
    "### Dumb Hypothesis\n",
    "\n",
    "$f(x) = \\sigma(x - a)$ where $f(x) \\in [0, 1]$ is the probability of a student passing the exam if he/she studied for x hours.\n",
    "\n",
    "$\\sigma(x)$ is the sigmoid activation function where $\\sigma(x) = \\frac{1}{1 + e ^ {-x}}$\n",
    "\n",
    "### Why did I come up with that hypothesis?\n",
    "\n",
    "- Of course we know it would be insufficient to predict exactly whether the student pass the exam or not, when the only information we got is the number of hours used for learning. There would be several other factors. So we just accept that we can never be correct?\n",
    "- No, actually. We can still have some information with the number of hours. We clearly can observe a trend: The more hours we study, the more likely we pass the exam.\n",
    "- Given the uncertainty of data, the lack of factors in data, predicting discretely of value 0 and 1 is pretty stupid. It is useless. What is more valuable is how likely (probability) that the student pass the exam.\n",
    "- So now, our hypothesis is a function that returns a probability\n",
    "- To think about it, we have to guess the underlying distribution of the population, given a sample of data.\n",
    "- That's the high level for now. Then, why don't we just use the probability found in the sample as the distribution for population?\n",
    "- That's a good point to revisit later.\n",
    "- For this task, we naturally feel that there is a threshold that decides whether the student pass or not. The further the student get from the threshold, the more extreme likely the result would happen. What am I even saying haha. It's very similar to the graph of sigmoid function"
   ]
  },
  {
   "cell_type": "markdown",
   "metadata": {},
   "source": [
    "![Sigmoid's Curve](./media/Logistic-curve.svg)"
   ]
  },
  {
   "cell_type": "markdown",
   "metadata": {},
   "source": [
    "### Loss function\n",
    "\n",
    "With the stupid hypothesis, let's define a loss function. The loss function can also be stupid. But it's good to do this so as we can feel the difference after seeing the running process.\n",
    "\n",
    "How about we go with the normal squared error?\n",
    "$$\n",
    "    L(a) = \\sum_{i = 1}^n (y_i - \\sigma(x - a)) ^ 2\n",
    "$$\n",
    "\n",
    "Okay now let's go and find the derivative of the loss function\n",
    "\n",
    "$$\n",
    "\\frac{dL}{da} = \\sum_{i = 1}^n \\frac{d(y_i - \\sigma(x - a))^2}{da}\n",
    "= \\sum_{i = 1} ^ n 2(y_i - \\sigma(x - a)) \\frac{d(y_i - \\sigma(x - a))}{da}\\\\\n",
    "= \\sum_{i = 1} ^ n 2(y_i - \\sigma(x - a)) \\frac{d(- \\sigma(x - a))}{d(x - a)} \\frac{d(x - a)}{da}\n",
    "= \\sum_{i = 1} ^ n 2(y_i - \\sigma(x - a)) \\sigma(x - a) (1 - \\sigma(x - a))\n",
    "$$"
   ]
  },
  {
   "cell_type": "markdown",
   "metadata": {},
   "source": [
    "### Dataset"
   ]
  },
  {
   "cell_type": "code",
   "execution_count": 3,
   "metadata": {},
   "outputs": [],
   "source": [
    "import numpy as np\n",
    "\n",
    "X = np.array([[0.50, 0.75, 1.00, 1.25, 1.50, 1.75, 1.75, 2.00, 2.25, 2.50, \n",
    "              2.75, 3.00, 3.25, 3.50, 4.00, 4.25, 4.50, 4.75, 5.00, 5.50]])\n",
    "y = np.array([0, 0, 0, 0, 0, 0, 1, 0, 1, 0, 1, 0, 1, 0, 1, 1, 1, 1, 1, 1])"
   ]
  },
  {
   "cell_type": "code",
   "execution_count": 5,
   "metadata": {},
   "outputs": [
    {
     "data": {
      "image/png": "[encoded data removed]",
      "text/plain": [
       "<Figure size 640x480 with 1 Axes>"
      ]
     },
     "metadata": {},
     "output_type": "display_data"
    }
   ],
   "source": [
    "#Plot the data, points where y values = 0 has red color and y values = 1 has blue color\n",
    "import matplotlib.pyplot as plt\n",
    "plt.scatter(X[0,y==0], y[y==0], color='red', marker='o', label='y=0')\n",
    "plt.scatter(X[0,y==1], y[y==1], color='blue', marker='x', label='y=1')\n",
    "plt.xlabel('X')\n",
    "plt.ylabel('y')\n",
    "plt.legend(loc='upper left')\n",
    "plt.show()\n"
   ]
  },
  {
   "cell_type": "markdown",
   "metadata": {},
   "source": [
    "### Loss function implementation"
   ]
  },
  {
   "cell_type": "code",
   "execution_count": 10,
   "metadata": {},
   "outputs": [],
   "source": [
    "def sigmoid(z):\n",
    "    return 1.0 / (1.0 + np.exp(-z))\n",
    "\n",
    "def loss(a):\n",
    "    \"\"\" \n",
    "        Loss function for variable a, which is the threshold.\n",
    "    \"\"\"\n",
    "    loss_sum = 0\n",
    "    for idx in range(len(X[0])):\n",
    "        hours = X[0][idx]\n",
    "        prediction = sigmoid(hours - a)\n",
    "        truth = y[idx]\n",
    "        loss_sum += (prediction - truth)**2\n",
    "    return loss_sum\n",
    "\n",
    "def loss_derivative(a):\n",
    "    \"\"\" \n",
    "        Derivative of loss function for variable a, which is the threshold.\n",
    "    \"\"\"\n",
    "    loss_derivative_sum = 0\n",
    "    for idx in range(len(X[0])):\n",
    "        hours = X[0][idx]\n",
    "        prediction = sigmoid(hours - a)\n",
    "        truth = y[idx]\n",
    "        loss_derivative_sum -= 2 * (truth - prediction) * sigmoid(hours - a) * (1 - sigmoid(hours - a))\n",
    "    return loss_derivative_sum\n"
   ]
  },
  {
   "cell_type": "markdown",
   "metadata": {},
   "source": [
    "### Gradient descent"
   ]
  },
  {
   "cell_type": "code",
   "execution_count": 23,
   "metadata": {},
   "outputs": [],
   "source": [
    "import os\n",
    "import imageio\n",
    "\n",
    "def clear_graph_folder():\n",
    "    folder = './graphs'\n",
    "    for filename in os.listdir(folder):\n",
    "        file_path = os.path.join(folder, filename)\n",
    "        os.remove(file_path)\n",
    "\n",
    "def create_gifs():\n",
    "    # Combine all images in graphs folder into a gif\n",
    "    images = []\n",
    "    for i in range(len(os.listdir('./graphs'))):\n",
    "        file_path = os.path.join('./graphs', str(i) + '.png')\n",
    "        images.append(imageio.imread(file_path))\n",
    "    imageio.mimsave('./animation.gif', images, duration=0.5)\n"
   ]
  },
  {
   "cell_type": "code",
   "execution_count": 19,
   "metadata": {},
   "outputs": [
    {
     "name": "stdout",
     "output_type": "stream",
     "text": [
      "2.728165423924947\n"
     ]
    },
    {
     "data": {
      "image/png": "[encoded data removed]",
      "text/plain": [
       "<Figure size 640x480 with 1 Axes>"
      ]
     },
     "metadata": {},
     "output_type": "display_data"
    }
   ],
   "source": [
    "x = np.linspace(0, 10, 100)\n",
    "\n",
    "def gradient_descent_process(start_a, x, learning_rate, iterations):\n",
    "    \"\"\" \n",
    "        Gradient descent process for variable a, which is the threshold.\n",
    "    \"\"\"\n",
    "    clear_graph_folder()\n",
    "    a = start_a\n",
    "    i = 0\n",
    "    y = loss(x)\n",
    "    plt.plot(x, y)\n",
    "    while (True):\n",
    "        gradient = loss_derivative(a)\n",
    "        new_a = a + learning_rate * gradient\n",
    "        plt.plot([a, new_a], [loss(a), loss(new_a)], color='yellow')\n",
    "        #Draw the old point as gray and the new point as red\n",
    "        plt.scatter(a, loss(a), color='gray', marker='o')\n",
    "        plt.scatter(new_a, loss(new_a), color='red', marker='o')\n",
    "        plt.title('Iteration %s' % i)\n",
    "        plt.xlabel('a')\n",
    "        plt.ylabel('Loss')\n",
    "        plt.savefig('./graphs/%s.png' % i)\n",
    "        a = new_a\n",
    "        if (gradient < 0.0001):\n",
    "            break\n",
    "        i += 1\n",
    "        if (i > iterations):\n",
    "            break\n",
    "    return a\n",
    "\n",
    "a_optimal = gradient_descent_process(0, x, 0.1, 30)\n",
    "print(a_optimal)"
   ]
  },
  {
   "cell_type": "code",
   "execution_count": 24,
   "metadata": {},
   "outputs": [
    {
     "name": "stdout",
     "output_type": "stream",
     "text": [
      "31\n"
     ]
    },
    {
     "name": "stderr",
     "output_type": "stream",
     "text": [
      "C:\\Users\\ADMIN\\AppData\\Local\\Temp\\ipykernel_14244\\2370886589.py:16: DeprecationWarning: Starting with ImageIO v3 the behavior of this function will switch to that of iio.v3.imread. To keep the current behavior (and make this warning disappear) use `import imageio.v2 as imageio` or call `imageio.v2.imread` directly.\n",
      "  images.append(imageio.imread(file_path))\n"
     ]
    }
   ],
   "source": [
    "create_gifs()"
   ]
  },
  {
   "cell_type": "code",
   "execution_count": 25,
   "metadata": {},
   "outputs": [
    {
     "data": {
      "text/html": [
       "<img src=\"./animation.gif\"/>"
      ],
      "text/plain": [
       "<IPython.core.display.Image object>"
      ]
     },
     "execution_count": 25,
     "metadata": {},
     "output_type": "execute_result"
    }
   ],
   "source": [
    "# Show the gif\n",
    "from IPython.display import Image\n",
    "Image(url='./animation.gif')\n"
   ]
  }
 ],
 "metadata": {
  "kernelspec": {
   "display_name": "Python 3",
   "language": "python",
   "name": "python3"
  },
  "language_info": {
   "codemirror_mode": {
    "name": "ipython",
    "version": 3
   },
   "file_extension": ".py",
   "mimetype": "text/x-python",
   "name": "python",
   "nbconvert_exporter": "python",
   "pygments_lexer": "ipython3",
   "version": "3.10.11"
  },
  "orig_nbformat": 4
 },
 "nbformat": 4,
 "nbformat_minor": 2
}
